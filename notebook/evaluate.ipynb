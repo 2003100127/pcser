{
 "cells": [
  {
   "cell_type": "code",
   "execution_count": 1,
   "id": "initial_id",
   "metadata": {
    "tags": []
   },
   "outputs": [
    {
     "data": {
      "text/plain": [
       "'D:\\\\Programming\\\\anaconda3\\\\envs\\\\ml\\\\python.exe'"
      ]
     },
     "execution_count": 1,
     "metadata": {},
     "output_type": "execute_result"
    }
   ],
   "source": [
    "import sys\n",
    "sys.executable"
   ]
  },
  {
   "cell_type": "markdown",
   "id": "73bdeedc-4d84-462a-943b-7a027c721cb4",
   "metadata": {
    "tags": []
   },
   "source": [
    "## Load PCSER software"
   ]
  },
  {
   "cell_type": "code",
   "execution_count": 2,
   "id": "d5aea21c-8c84-4a87-99a7-eaa1ad8506cc",
   "metadata": {
    "tags": []
   },
   "outputs": [
    {
     "name": "stderr",
     "output_type": "stream",
     "text": [
      "IProgress not found. Please update jupyter and ipywidgets. See https://ipywidgets.readthedocs.io/en/stable/user_install.html\n"
     ]
    }
   ],
   "source": [
    "import pcser as pcs"
   ]
  },
  {
   "cell_type": "markdown",
   "id": "fbe131ec-3316-4e53-93bb-e47236c9ac5e",
   "metadata": {},
   "source": [
    "#### We prepared an example file containing the input data to the PCSER model. It has two sheets.\n",
    "\n",
    "* a\n",
    "* b\n",
    "\n",
    "In <code>a</code>, there are four samples, as the PBS control.\n",
    "In <code>b</code>, there are 5 samples, and their nanoparticles are pre-coated with different proteins."
   ]
  },
  {
   "cell_type": "markdown",
   "id": "be1636ca-ee7d-4e92-8675-082303c02c5b",
   "metadata": {},
   "source": [
    "#### We are goiong to predict the stealth effects, which are normalised. But if you want to recover it/them to the MFI values, you need to provide one MFI or more in the PBS environment, which means the MFI values are not measured with any pre-coating nanoparticles and in any plasma challenges."
   ]
  },
  {
   "cell_type": "markdown",
   "id": "c53b6c95-53ed-47b9-9c2a-3c5b7d52d454",
   "metadata": {},
   "source": [
    "### Protein composition"
   ]
  },
  {
   "cell_type": "code",
   "execution_count": 4,
   "id": "66573cbc-d374-4991-a718-2191cbad353c",
   "metadata": {
    "tags": []
   },
   "outputs": [
    {
     "name": "stdout",
     "output_type": "stream",
     "text": [
      "You are using extended sheets.\n",
      "You have selected the minmax normalization method.\n"
     ]
    },
    {
     "name": "stderr",
     "output_type": "stream",
     "text": [
      "Downcasting object dtype arrays on .fillna, .ffill, .bfill is deprecated and will change in a future version. Call result.infer_objects(copy=False) instead. To opt-in to the future behavior, set `pd.set_option('future.no_silent_downcasting', True)`\n",
      "Downcasting object dtype arrays on .fillna, .ffill, .bfill is deprecated and will change in a future version. Call result.infer_objects(copy=False) instead. To opt-in to the future behavior, set `pd.set_option('future.no_silent_downcasting', True)`\n"
     ]
    },
    {
     "name": "stdout",
     "output_type": "stream",
     "text": [
      "Data summary:\n",
      "Number of samples: 54\n",
      "Number of features: 419\n",
      "You have the samples: ['HuApoA1', 'MoApoA1', 'HuClusterin', 'MoClusterin']\n",
      "PCSER predictions: \n",
      "             stealth_effect          MFI\n",
      "HuApoA1            0.670762  3099.790003\n",
      "MoApoA1            0.662108  3189.458730\n",
      "HuClusterin        0.634621  3474.270396\n",
      "MoClusterin        0.633914  3481.599008\n"
     ]
    },
    {
     "data": {
      "text/html": [
       "<div>\n",
       "<style scoped>\n",
       "    .dataframe tbody tr th:only-of-type {\n",
       "        vertical-align: middle;\n",
       "    }\n",
       "\n",
       "    .dataframe tbody tr th {\n",
       "        vertical-align: top;\n",
       "    }\n",
       "\n",
       "    .dataframe thead th {\n",
       "        text-align: right;\n",
       "    }\n",
       "</style>\n",
       "<table border=\"1\" class=\"dataframe\">\n",
       "  <thead>\n",
       "    <tr style=\"text-align: right;\">\n",
       "      <th></th>\n",
       "      <th>stealth_effect</th>\n",
       "      <th>MFI</th>\n",
       "    </tr>\n",
       "  </thead>\n",
       "  <tbody>\n",
       "    <tr>\n",
       "      <th>HuApoA1</th>\n",
       "      <td>0.670762</td>\n",
       "      <td>3099.790003</td>\n",
       "    </tr>\n",
       "    <tr>\n",
       "      <th>MoApoA1</th>\n",
       "      <td>0.662108</td>\n",
       "      <td>3189.458730</td>\n",
       "    </tr>\n",
       "    <tr>\n",
       "      <th>HuClusterin</th>\n",
       "      <td>0.634621</td>\n",
       "      <td>3474.270396</td>\n",
       "    </tr>\n",
       "    <tr>\n",
       "      <th>MoClusterin</th>\n",
       "      <td>0.633914</td>\n",
       "      <td>3481.599008</td>\n",
       "    </tr>\n",
       "  </tbody>\n",
       "</table>\n",
       "</div>"
      ],
      "text/plain": [
       "             stealth_effect          MFI\n",
       "HuApoA1            0.670762  3099.790003\n",
       "MoApoA1            0.662108  3189.458730\n",
       "HuClusterin        0.634621  3474.270396\n",
       "MoClusterin        0.633914  3481.599008"
      ]
     },
     "execution_count": 4,
     "metadata": {},
     "output_type": "execute_result"
    }
   ],
   "source": [
    "pcs.load.evaluate(\n",
    "    data_ref_fpn='D:/Document/Programming/Python/pcser/pcser/data/hu_macrophage/Proteomics_07262023_rv_C57BL6_spl54.xlsx',\n",
    "    sv_fp='D:/Document/Programming/Python/pcser/pcser/data/',  # None to('data/')\n",
    "    input_fpn='D:/Document/Programming/Python/pcser/pcser/data/hu_macrophage/example.xlsx',\n",
    "    model_fpn='D:/Document/Programming/Python/pcser/pcser/data/model/best_cv.joblib',\n",
    "    sheet_name='a', # a b\n",
    "    # mfi_ref=[10271.33333, 10747, 10303.33333, 9663.333333, 10056],\n",
    "    mfi_ref=[3606.333333, 3606.333333, 3606.333333, 3606.333333],\n",
    "\n",
    "    is_norm=True,\n",
    "    norm_met='minmax',  # minmax std maxabs\n",
    "    mode='compo',  # compo annot\n",
    "    mark='spl54',  # spl54 spl63\n",
    "    version='extended',  # extended old\n",
    ")"
   ]
  },
  {
   "cell_type": "markdown",
   "id": "4fb26068-e3ec-45f3-8545-e5e52324c00e",
   "metadata": {},
   "source": [
    "### Protein annotation category"
   ]
  },
  {
   "cell_type": "code",
   "execution_count": 6,
   "id": "89deb55d-62e6-4926-a51f-160a4a26be36",
   "metadata": {
    "tags": []
   },
   "outputs": [
    {
     "name": "stdout",
     "output_type": "stream",
     "text": [
      "You are using extended sheets.\n",
      "You have selected the minmax normalization method.\n"
     ]
    },
    {
     "name": "stderr",
     "output_type": "stream",
     "text": [
      "Downcasting object dtype arrays on .fillna, .ffill, .bfill is deprecated and will change in a future version. Call result.infer_objects(copy=False) instead. To opt-in to the future behavior, set `pd.set_option('future.no_silent_downcasting', True)`\n",
      "Downcasting object dtype arrays on .fillna, .ffill, .bfill is deprecated and will change in a future version. Call result.infer_objects(copy=False) instead. To opt-in to the future behavior, set `pd.set_option('future.no_silent_downcasting', True)`\n"
     ]
    },
    {
     "name": "stdout",
     "output_type": "stream",
     "text": [
      "Data summary:\n",
      "Number of samples: 54\n",
      "Number of features: 419\n",
      "You have the samples: ['HuApoA1', 'MoApoA1', 'HuClusterin', 'MoClusterin']\n",
      "PCSER predictions: \n",
      "   stealth_effect          MFI\n",
      "0        0.634621  3474.237063\n",
      "1        0.634621  3474.237063\n",
      "2        0.634621  3474.237063\n",
      "3        0.625302  3570.794892\n",
      "4        0.627158  3551.566663\n"
     ]
    },
    {
     "data": {
      "text/html": [
       "<div>\n",
       "<style scoped>\n",
       "    .dataframe tbody tr th:only-of-type {\n",
       "        vertical-align: middle;\n",
       "    }\n",
       "\n",
       "    .dataframe tbody tr th {\n",
       "        vertical-align: top;\n",
       "    }\n",
       "\n",
       "    .dataframe thead th {\n",
       "        text-align: right;\n",
       "    }\n",
       "</style>\n",
       "<table border=\"1\" class=\"dataframe\">\n",
       "  <thead>\n",
       "    <tr style=\"text-align: right;\">\n",
       "      <th></th>\n",
       "      <th>stealth_effect</th>\n",
       "      <th>MFI</th>\n",
       "    </tr>\n",
       "  </thead>\n",
       "  <tbody>\n",
       "    <tr>\n",
       "      <th>0</th>\n",
       "      <td>0.634621</td>\n",
       "      <td>3474.237063</td>\n",
       "    </tr>\n",
       "    <tr>\n",
       "      <th>1</th>\n",
       "      <td>0.634621</td>\n",
       "      <td>3474.237063</td>\n",
       "    </tr>\n",
       "    <tr>\n",
       "      <th>2</th>\n",
       "      <td>0.634621</td>\n",
       "      <td>3474.237063</td>\n",
       "    </tr>\n",
       "    <tr>\n",
       "      <th>3</th>\n",
       "      <td>0.625302</td>\n",
       "      <td>3570.794892</td>\n",
       "    </tr>\n",
       "    <tr>\n",
       "      <th>4</th>\n",
       "      <td>0.627158</td>\n",
       "      <td>3551.566663</td>\n",
       "    </tr>\n",
       "  </tbody>\n",
       "</table>\n",
       "</div>"
      ],
      "text/plain": [
       "   stealth_effect          MFI\n",
       "0        0.634621  3474.237063\n",
       "1        0.634621  3474.237063\n",
       "2        0.634621  3474.237063\n",
       "3        0.625302  3570.794892\n",
       "4        0.627158  3551.566663"
      ]
     },
     "execution_count": 6,
     "metadata": {},
     "output_type": "execute_result"
    }
   ],
   "source": [
    "pcs.load.extend(\n",
    "    data_ref_fpn='D:/Document/Programming/Python/pcser/pcser/data/hu_macrophage/Proteomics_07262023_rv_C57BL6_spl54.xlsx',\n",
    "    sv_fp='D:/Document/Programming/Python/pcser/pcser/data/',  # None to('data/')\n",
    "    input_fpn='D:/Document/Programming/Python/pcser/pcser/data/hu_macrophage/example.xlsx',\n",
    "    model_fpn='D:/Document/Programming/Python/pcser/pcser/data/model/best_cv.joblib',\n",
    "    \n",
    "    sheet_name='a',  # a b\n",
    "    spl_name='HuApoA1',  # HuApoA1\n",
    "    mfi_ref=3606.3,\n",
    "\n",
    "    rept_times=5,\n",
    "    poi='Total_quantification',\n",
    "    poi_increments=[0, 10, 100, 1000, 10000],\n",
    "    \n",
    "    is_norm=True,\n",
    "    norm_met='minmax',  # minmax std maxabs\n",
    "    mode='compo',  # compo annot\n",
    "    mark='spl54',  # spl54 spl63\n",
    "    version='extended',  # extended old\n",
    ")"
   ]
  }
 ],
 "metadata": {
  "kernelspec": {
   "display_name": "ml",
   "language": "python",
   "name": "ml"
  },
  "language_info": {
   "codemirror_mode": {
    "name": "ipython",
    "version": 3
   },
   "file_extension": ".py",
   "mimetype": "text/x-python",
   "name": "python",
   "nbconvert_exporter": "python",
   "pygments_lexer": "ipython3",
   "version": "3.11.4"
  }
 },
 "nbformat": 4,
 "nbformat_minor": 5
}
